{
 "cells": [
  {
   "cell_type": "markdown",
   "metadata": {},
   "source": [
    "# AWS with boto3\n",
    "## S3\n",
    "## EC2\n",
    "## RDS"
   ]
  },
  {
   "cell_type": "code",
   "execution_count": 1,
   "metadata": {},
   "outputs": [],
   "source": [
    "import logging\n",
    "\n",
    "import boto3\n",
    "from botocore.exceptions import ClientError"
   ]
  },
  {
   "cell_type": "markdown",
   "metadata": {},
   "source": [
    "## S3"
   ]
  },
  {
   "cell_type": "code",
   "execution_count": 2,
   "metadata": {},
   "outputs": [],
   "source": [
    "class AWSS3ObjHandler:\n",
    "    def __init__(self, bucket_name):\n",
    "        self.bucket_name = bucket_name\n",
    "        return\n",
    "\n",
    "    def get_obj(self, obj_name, file_path):\n",
    "        \"\"\"Upload a file to an S3 bucket\n",
    "        :param obj_name: S3 object name,\n",
    "        :param file_path: File to downloaded\n",
    "        :return: True if file was downloaded, else False\n",
    "        \"\"\"\n",
    "        s3_client = boto3.client('s3')\n",
    "\n",
    "        try:\n",
    "            #with open(file_path, 'w+') as data:\n",
    "            resp = s3_client.get_object(\n",
    "                Bucket=self.bucket_name,\n",
    "                Key=obj_name\n",
    "            )\n",
    "            blob = resp['Body'].read()\n",
    "            with open(file_path, \"wb\") as f:\n",
    "                f.write(blob)\n",
    "        except ClientError as e:\n",
    "            logging.error(e)\n",
    "            return False\n",
    "        return True\n",
    "\n",
    "    def put_obj_by_file_path(self, file_path, obj_name=None):\n",
    "        \"\"\"Upload a file to an S3 bucket\n",
    "        :param file_path: File to upload\n",
    "        :param obj_name: S3 object name. If not specified then file_path is used\n",
    "        :return: True if file was uploaded, else False\n",
    "        \"\"\"\n",
    "        # If S3 object_name was not specified, use file_name\n",
    "        if obj_name is None:\n",
    "            obj_name = file_path\n",
    "    \n",
    "        # Upload the file\n",
    "        s3_client = boto3.client('s3')\n",
    "        try:\n",
    "            resp = s3_client.upload_file(\n",
    "                file_path, self.bucket_name, obj_name\n",
    "            )\n",
    "        except ClientError as e:\n",
    "            logging.error(e)\n",
    "            return False\n",
    "        return True\n",
    "\n",
    "    def delete_obj(self, obj_name):\n",
    "        return"
   ]
  },
  {
   "cell_type": "code",
   "execution_count": 3,
   "metadata": {},
   "outputs": [],
   "source": [
    "test_file_name = \"altDailyFactorBankDQReport_2020_2020-05-29.pdf\"\n",
    "test_file_path = f\"/Users/huawei/Downloads/{test_file_name}\"\n",
    "test_bucket_name = \"feed-data-quality\"\n",
    "test_s3_obj_name = f\"report/{test_file_name}\""
   ]
  },
  {
   "cell_type": "code",
   "execution_count": 4,
   "metadata": {},
   "outputs": [],
   "source": [
    "test_s3_obj_handler_cls = AWSS3ObjHandler(\n",
    "    bucket_name=test_bucket_name\n",
    ")"
   ]
  },
  {
   "cell_type": "code",
   "execution_count": 5,
   "metadata": {},
   "outputs": [
    {
     "data": {
      "text/plain": [
       "True"
      ]
     },
     "execution_count": 5,
     "metadata": {},
     "output_type": "execute_result"
    }
   ],
   "source": [
    "test_s3_obj_handler_cls.put_obj_by_file_path(\n",
    "    file_path=test_file_path,\n",
    "    obj_name=test_s3_obj_name\n",
    ")"
   ]
  },
  {
   "cell_type": "code",
   "execution_count": 6,
   "metadata": {},
   "outputs": [
    {
     "data": {
      "text/plain": [
       "True"
      ]
     },
     "execution_count": 6,
     "metadata": {},
     "output_type": "execute_result"
    }
   ],
   "source": [
    "test_s3_obj_handler_cls.get_obj(\n",
    "    obj_name=test_s3_obj_name,\n",
    "    file_path=\"aaa.pdf\"\n",
    ")"
   ]
  },
  {
   "cell_type": "code",
   "execution_count": null,
   "metadata": {},
   "outputs": [],
   "source": []
  }
 ],
 "metadata": {
  "kernelspec": {
   "display_name": "Python 3",
   "language": "python",
   "name": "python3"
  },
  "language_info": {
   "codemirror_mode": {
    "name": "ipython",
    "version": 3
   },
   "file_extension": ".py",
   "mimetype": "text/x-python",
   "name": "python",
   "nbconvert_exporter": "python",
   "pygments_lexer": "ipython3",
   "version": "3.7.6"
  }
 },
 "nbformat": 4,
 "nbformat_minor": 2
}
