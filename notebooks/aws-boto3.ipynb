{
 "cells": [
  {
   "cell_type": "markdown",
   "metadata": {},
   "source": [
    "# AWS with boto3\n",
    "## CloudWatch\n",
    "## S3"
   ]
  },
  {
   "cell_type": "code",
   "execution_count": 1,
   "metadata": {},
   "outputs": [],
   "source": [
    "import logging\n",
    "import datetime\n",
    "\n",
    "import boto3\n",
    "from botocore.exceptions import ClientError"
   ]
  },
  {
   "cell_type": "markdown",
   "metadata": {},
   "source": [
    "## CloudWatch"
   ]
  },
  {
   "cell_type": "code",
   "execution_count": 2,
   "metadata": {},
   "outputs": [],
   "source": [
    "def get_unix_ts_int(ts):\n",
    "    return (int(ts.timestamp() * 1000))\n",
    "\n",
    "class AWSCloudWatchLogHandler:\n",
    "    def __init__(self, group_name, stream_name):\n",
    "        self.group_name = group_name\n",
    "        self.stream_name = stream_name\n",
    "        return\n",
    "\n",
    "    def get_log_events(self, s_ts, e_ts):\n",
    "        unix_s_ts_int = get_unix_ts_int(s_ts)\n",
    "        unix_e_ts_int = get_unix_ts_int(e_ts)\n",
    "        client = boto3.client('logs')\n",
    "        try:\n",
    "            resp = client.get_log_events(\n",
    "                logGroupName=self.group_name,\n",
    "                logStreamName=self.stream_name,\n",
    "                startTime=unix_s_ts_int,\n",
    "                endTime=unix_e_ts_int,\n",
    "                limit=100,\n",
    "                startFromHead=False\n",
    "            )\n",
    "            return resp.get('events')\n",
    "        except ClientError as e:\n",
    "            logging.error(e)\n",
    "            return []\n",
    "    \n",
    "    def put_log_events(self, message_list):\n",
    "        \"\"\"send events to AWS CloudWatch log stream\n",
    "        :param message_list, a list of message string to be sent\n",
    "        :return: True if sent successfully, else False\n",
    "        \"\"\"\n",
    "        unix_ts_int = get_unix_ts_int(datetime.datetime.now())\n",
    "        event_list = [{\n",
    "            'timestamp': unix_ts_int,\n",
    "            'message': m\n",
    "        } for m in message_list]\n",
    "        client = boto3.client('logs')\n",
    "        # Get upload sequence token first\n",
    "        try:\n",
    "            resp = client.describe_log_streams(\n",
    "                logGroupName=self.group_name,\n",
    "                logStreamNamePrefix=self.stream_name,\n",
    "                orderBy='LogStreamName',\n",
    "                descending=False,\n",
    "            )\n",
    "        except ClientError as e:\n",
    "            logging.error(e)\n",
    "            return False\n",
    "\n",
    "        stream_list = resp.get('logStreams')\n",
    "        upload_seq_token = None\n",
    "        for stream in stream_list:\n",
    "            if stream.get('logStreamName') == self.stream_name:\n",
    "                upload_seq_token = stream.get('uploadSequenceToken')\n",
    "                break\n",
    "        if upload_seq_token == None:\n",
    "            logging.error(f\"Invalid upload sequence token: {upload_seq_token}\")\n",
    "            return False\n",
    "\n",
    "        try:\n",
    "            resp = client.put_log_events(\n",
    "                logGroupName=self.group_name,\n",
    "                logStreamName=self.stream_name,\n",
    "                logEvents=event_list,\n",
    "                sequenceToken=upload_seq_token\n",
    "            )\n",
    "        except ClientError as e:\n",
    "            logging.error(e)\n",
    "            return False\n",
    "        return True"
   ]
  },
  {
   "cell_type": "code",
   "execution_count": 3,
   "metadata": {},
   "outputs": [],
   "source": [
    "test_cw_group_name = \"Customized\"\n",
    "test_cw_stream_name = \"feed-data-quality\""
   ]
  },
  {
   "cell_type": "code",
   "execution_count": 4,
   "metadata": {},
   "outputs": [],
   "source": [
    "test_cw_log_handler_cls = AWSCloudWatchLogHandler(\n",
    "    group_name=test_cw_group_name, stream_name=test_cw_stream_name\n",
    ")"
   ]
  },
  {
   "cell_type": "code",
   "execution_count": 5,
   "metadata": {},
   "outputs": [],
   "source": [
    "test_log_msg_list = [\"test_msg_5\", \"test_msg_6\"]"
   ]
  },
  {
   "cell_type": "code",
   "execution_count": 6,
   "metadata": {},
   "outputs": [
    {
     "data": {
      "text/plain": [
       "True"
      ]
     },
     "execution_count": 6,
     "metadata": {},
     "output_type": "execute_result"
    }
   ],
   "source": [
    "test_cw_log_handler_cls.put_log_events(test_log_msg_list)"
   ]
  },
  {
   "cell_type": "code",
   "execution_count": 7,
   "metadata": {},
   "outputs": [
    {
     "data": {
      "text/plain": [
       "[{'timestamp': 1590895489990,\n",
       "  'message': 'test_msg_1',\n",
       "  'ingestionTime': 1590895490205},\n",
       " {'timestamp': 1590895489990,\n",
       "  'message': 'test_msg_2',\n",
       "  'ingestionTime': 1590895490205},\n",
       " {'timestamp': 1590897169642,\n",
       "  'message': 'test_msg_3',\n",
       "  'ingestionTime': 1590897169849},\n",
       " {'timestamp': 1590897169642,\n",
       "  'message': 'test_msg_4',\n",
       "  'ingestionTime': 1590897169849},\n",
       " {'timestamp': 1590897264954,\n",
       "  'message': 'test_msg_5',\n",
       "  'ingestionTime': 1590897265236},\n",
       " {'timestamp': 1590897264954,\n",
       "  'message': 'test_msg_6',\n",
       "  'ingestionTime': 1590897265236}]"
      ]
     },
     "execution_count": 7,
     "metadata": {},
     "output_type": "execute_result"
    }
   ],
   "source": [
    "test_cw_log_handler_cls.get_log_events(\n",
    "    s_ts=datetime.datetime.strptime(\"2020-05-01\", '%Y-%m-%d'),\n",
    "    e_ts=datetime.datetime.strptime(\"2020-05-31\", '%Y-%m-%d')\n",
    ")"
   ]
  },
  {
   "cell_type": "code",
   "execution_count": 8,
   "metadata": {},
   "outputs": [],
   "source": [
    "del test_cw_log_handler_cls"
   ]
  },
  {
   "cell_type": "markdown",
   "metadata": {},
   "source": [
    "## S3"
   ]
  },
  {
   "cell_type": "code",
   "execution_count": 2,
   "metadata": {},
   "outputs": [],
   "source": [
    "class AWSS3ObjHandler:\n",
    "    def __init__(self, bucket_name):\n",
    "        self.bucket_name = bucket_name\n",
    "        return\n",
    "\n",
    "    def get_obj_blob(self, obj_name):\n",
    "        \"\"\"Upload a file to an S3 bucket\n",
    "        :param obj_name: S3 object name\n",
    "        :return: file blob if success, otherwise None\n",
    "        \"\"\"\n",
    "        s3_client = boto3.client('s3')\n",
    "\n",
    "        try:\n",
    "            resp = s3_client.get_object(\n",
    "                Bucket=self.bucket_name,\n",
    "                Key=obj_name\n",
    "            )\n",
    "            blob = resp['Body'].read()\n",
    "        except ClientError as e:\n",
    "            logging.error(e)\n",
    "            return None\n",
    "        return blob\n",
    "\n",
    "    @staticmethod\n",
    "    def dump_obj_blob(blob, file_path):\n",
    "        \"\"\"Dump obj blob to local file\n",
    "        :param blob: content to be dumped\n",
    "        :param file_path: file path for the dumped blob\n",
    "        :return: True if file was dumped, else False\n",
    "        \"\"\"\n",
    "        return True\n",
    "\n",
    "    def put_obj_by_file_path(self, file_path, obj_name=None):\n",
    "        \"\"\"Upload a file to an S3 bucket\n",
    "        :param file_path: File to upload\n",
    "        :param obj_name: S3 object name. If not specified then file_path is used\n",
    "        :return: True if file was uploaded, else False\n",
    "        \"\"\"\n",
    "        # If S3 object_name was not specified, use file_name\n",
    "        if obj_name is None:\n",
    "            obj_name = file_path\n",
    "    \n",
    "        # Upload the file\n",
    "        s3_client = boto3.client('s3')\n",
    "        try:\n",
    "            resp = s3_client.upload_file(\n",
    "                file_path, self.bucket_name, obj_name\n",
    "            )\n",
    "        except ClientError as e:\n",
    "            logging.error(e)\n",
    "            return False\n",
    "        return True\n",
    "\n",
    "    def delete_obj(self, obj_name):\n",
    "        return"
   ]
  },
  {
   "cell_type": "code",
   "execution_count": 3,
   "metadata": {},
   "outputs": [],
   "source": [
    "test_file_name = \"altDailyFactorBankDQReport_2020_2020-05-29.pdf\"\n",
    "test_file_path = f\"/Users/huawei/Downloads/{test_file_name}\"\n",
    "test_bucket_name = \"feed-data-quality\"\n",
    "test_s3_obj_name = f\"report/{test_file_name}\""
   ]
  },
  {
   "cell_type": "code",
   "execution_count": 4,
   "metadata": {},
   "outputs": [],
   "source": [
    "test_s3_obj_handler_cls = AWSS3ObjHandler(\n",
    "    bucket_name=test_bucket_name\n",
    ")"
   ]
  },
  {
   "cell_type": "code",
   "execution_count": 5,
   "metadata": {},
   "outputs": [
    {
     "data": {
      "text/plain": [
       "True"
      ]
     },
     "execution_count": 5,
     "metadata": {},
     "output_type": "execute_result"
    }
   ],
   "source": [
    "test_s3_obj_handler_cls.put_obj_by_file_path(\n",
    "    file_path=test_file_path,\n",
    "    obj_name=test_s3_obj_name\n",
    ")"
   ]
  },
  {
   "cell_type": "code",
   "execution_count": 5,
   "metadata": {},
   "outputs": [],
   "source": [
    "test_blob = test_s3_obj_handler_cls.get_obj_blob(\n",
    "    obj_name=test_s3_obj_name\n",
    ")"
   ]
  },
  {
   "cell_type": "code",
   "execution_count": 6,
   "metadata": {},
   "outputs": [],
   "source": [
    "del test_s3_obj_handler_cls"
   ]
  },
  {
   "cell_type": "code",
   "execution_count": null,
   "metadata": {},
   "outputs": [],
   "source": []
  }
 ],
 "metadata": {
  "kernelspec": {
   "display_name": "Python 3",
   "language": "python",
   "name": "python3"
  },
  "language_info": {
   "codemirror_mode": {
    "name": "ipython",
    "version": 3
   },
   "file_extension": ".py",
   "mimetype": "text/x-python",
   "name": "python",
   "nbconvert_exporter": "python",
   "pygments_lexer": "ipython3",
   "version": "3.7.6"
  }
 },
 "nbformat": 4,
 "nbformat_minor": 2
}
